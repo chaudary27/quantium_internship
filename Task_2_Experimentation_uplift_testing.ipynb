{
 "cells": [
  {
   "cell_type": "code",
   "execution_count": 1,
   "id": "eaac0b73",
   "metadata": {},
   "outputs": [],
   "source": [
    "import numpy as np\n",
    "import pandas as pd \n",
    "import matplotlib.pyplot as plt \n",
    "import seaborn as sns   "
   ]
  },
  {
   "cell_type": "code",
   "execution_count": 2,
   "id": "1545c504",
   "metadata": {},
   "outputs": [],
   "source": [
    "dataset=pd.read_excel(\"QVI_transaction_data.xlsx\")"
   ]
  },
  {
   "cell_type": "code",
   "execution_count": 3,
   "id": "8407051a",
   "metadata": {},
   "outputs": [
    {
     "data": {
      "application/vnd.microsoft.datawrangler.viewer.v0+json": {
       "columns": [
        {
         "name": "index",
         "rawType": "int64",
         "type": "integer"
        },
        {
         "name": "DATE",
         "rawType": "int64",
         "type": "integer"
        },
        {
         "name": "STORE_NBR",
         "rawType": "int64",
         "type": "integer"
        },
        {
         "name": "LYLTY_CARD_NBR",
         "rawType": "int64",
         "type": "integer"
        },
        {
         "name": "TXN_ID",
         "rawType": "int64",
         "type": "integer"
        },
        {
         "name": "PROD_NBR",
         "rawType": "int64",
         "type": "integer"
        },
        {
         "name": "PROD_NAME",
         "rawType": "object",
         "type": "string"
        },
        {
         "name": "PROD_QTY",
         "rawType": "int64",
         "type": "integer"
        },
        {
         "name": "TOT_SALES",
         "rawType": "float64",
         "type": "float"
        }
       ],
       "conversionMethod": "pd.DataFrame",
       "ref": "c05cb566-7cc1-4f77-bad0-30579d22789b",
       "rows": [
        [
         "0",
         "43390",
         "1",
         "1000",
         "1",
         "5",
         "Natural Chip        Compny SeaSalt175g",
         "2",
         "6.0"
        ],
        [
         "1",
         "43599",
         "1",
         "1307",
         "348",
         "66",
         "CCs Nacho Cheese    175g",
         "3",
         "6.3"
        ],
        [
         "2",
         "43605",
         "1",
         "1343",
         "383",
         "61",
         "Smiths Crinkle Cut  Chips Chicken 170g",
         "2",
         "2.9"
        ],
        [
         "3",
         "43329",
         "2",
         "2373",
         "974",
         "69",
         "Smiths Chip Thinly  S/Cream&Onion 175g",
         "5",
         "15.0"
        ],
        [
         "4",
         "43330",
         "2",
         "2426",
         "1038",
         "108",
         "Kettle Tortilla ChpsHny&Jlpno Chili 150g",
         "3",
         "13.8"
        ]
       ],
       "shape": {
        "columns": 8,
        "rows": 5
       }
      },
      "text/html": [
       "<div>\n",
       "<style scoped>\n",
       "    .dataframe tbody tr th:only-of-type {\n",
       "        vertical-align: middle;\n",
       "    }\n",
       "\n",
       "    .dataframe tbody tr th {\n",
       "        vertical-align: top;\n",
       "    }\n",
       "\n",
       "    .dataframe thead th {\n",
       "        text-align: right;\n",
       "    }\n",
       "</style>\n",
       "<table border=\"1\" class=\"dataframe\">\n",
       "  <thead>\n",
       "    <tr style=\"text-align: right;\">\n",
       "      <th></th>\n",
       "      <th>DATE</th>\n",
       "      <th>STORE_NBR</th>\n",
       "      <th>LYLTY_CARD_NBR</th>\n",
       "      <th>TXN_ID</th>\n",
       "      <th>PROD_NBR</th>\n",
       "      <th>PROD_NAME</th>\n",
       "      <th>PROD_QTY</th>\n",
       "      <th>TOT_SALES</th>\n",
       "    </tr>\n",
       "  </thead>\n",
       "  <tbody>\n",
       "    <tr>\n",
       "      <th>0</th>\n",
       "      <td>43390</td>\n",
       "      <td>1</td>\n",
       "      <td>1000</td>\n",
       "      <td>1</td>\n",
       "      <td>5</td>\n",
       "      <td>Natural Chip        Compny SeaSalt175g</td>\n",
       "      <td>2</td>\n",
       "      <td>6.0</td>\n",
       "    </tr>\n",
       "    <tr>\n",
       "      <th>1</th>\n",
       "      <td>43599</td>\n",
       "      <td>1</td>\n",
       "      <td>1307</td>\n",
       "      <td>348</td>\n",
       "      <td>66</td>\n",
       "      <td>CCs Nacho Cheese    175g</td>\n",
       "      <td>3</td>\n",
       "      <td>6.3</td>\n",
       "    </tr>\n",
       "    <tr>\n",
       "      <th>2</th>\n",
       "      <td>43605</td>\n",
       "      <td>1</td>\n",
       "      <td>1343</td>\n",
       "      <td>383</td>\n",
       "      <td>61</td>\n",
       "      <td>Smiths Crinkle Cut  Chips Chicken 170g</td>\n",
       "      <td>2</td>\n",
       "      <td>2.9</td>\n",
       "    </tr>\n",
       "    <tr>\n",
       "      <th>3</th>\n",
       "      <td>43329</td>\n",
       "      <td>2</td>\n",
       "      <td>2373</td>\n",
       "      <td>974</td>\n",
       "      <td>69</td>\n",
       "      <td>Smiths Chip Thinly  S/Cream&amp;Onion 175g</td>\n",
       "      <td>5</td>\n",
       "      <td>15.0</td>\n",
       "    </tr>\n",
       "    <tr>\n",
       "      <th>4</th>\n",
       "      <td>43330</td>\n",
       "      <td>2</td>\n",
       "      <td>2426</td>\n",
       "      <td>1038</td>\n",
       "      <td>108</td>\n",
       "      <td>Kettle Tortilla ChpsHny&amp;Jlpno Chili 150g</td>\n",
       "      <td>3</td>\n",
       "      <td>13.8</td>\n",
       "    </tr>\n",
       "  </tbody>\n",
       "</table>\n",
       "</div>"
      ],
      "text/plain": [
       "    DATE  STORE_NBR  LYLTY_CARD_NBR  TXN_ID  PROD_NBR  \\\n",
       "0  43390          1            1000       1         5   \n",
       "1  43599          1            1307     348        66   \n",
       "2  43605          1            1343     383        61   \n",
       "3  43329          2            2373     974        69   \n",
       "4  43330          2            2426    1038       108   \n",
       "\n",
       "                                  PROD_NAME  PROD_QTY  TOT_SALES  \n",
       "0    Natural Chip        Compny SeaSalt175g         2        6.0  \n",
       "1                  CCs Nacho Cheese    175g         3        6.3  \n",
       "2    Smiths Crinkle Cut  Chips Chicken 170g         2        2.9  \n",
       "3    Smiths Chip Thinly  S/Cream&Onion 175g         5       15.0  \n",
       "4  Kettle Tortilla ChpsHny&Jlpno Chili 150g         3       13.8  "
      ]
     },
     "execution_count": 3,
     "metadata": {},
     "output_type": "execute_result"
    }
   ],
   "source": [
    "dataset.head()"
   ]
  },
  {
   "cell_type": "markdown",
   "id": "04b8d3e5",
   "metadata": {},
   "source": [
    "# TOTAL SALES REVENUE"
   ]
  },
  {
   "cell_type": "code",
   "execution_count": 5,
   "id": "5701f271",
   "metadata": {},
   "outputs": [
    {
     "name": "stdout",
     "output_type": "stream",
     "text": [
      "1934415.0\n"
     ]
    }
   ],
   "source": [
    "total_sales=sum(dataset['TOT_SALES'])\n",
    "print(total_sales)"
   ]
  },
  {
   "cell_type": "code",
   "execution_count": 6,
   "id": "435ba7ca",
   "metadata": {},
   "outputs": [
    {
     "data": {
      "application/vnd.microsoft.datawrangler.viewer.v0+json": {
       "columns": [
        {
         "name": "index",
         "rawType": "object",
         "type": "string"
        },
        {
         "name": "DATE",
         "rawType": "float64",
         "type": "float"
        },
        {
         "name": "STORE_NBR",
         "rawType": "float64",
         "type": "float"
        },
        {
         "name": "LYLTY_CARD_NBR",
         "rawType": "float64",
         "type": "float"
        },
        {
         "name": "TXN_ID",
         "rawType": "float64",
         "type": "float"
        },
        {
         "name": "PROD_NBR",
         "rawType": "float64",
         "type": "float"
        },
        {
         "name": "PROD_QTY",
         "rawType": "float64",
         "type": "float"
        },
        {
         "name": "TOT_SALES",
         "rawType": "float64",
         "type": "float"
        }
       ],
       "conversionMethod": "pd.DataFrame",
       "ref": "382f4283-4ad6-469a-9b08-bcc8a945ded6",
       "rows": [
        [
         "count",
         "264836.0",
         "264836.0",
         "264836.0",
         "264836.0",
         "264836.0",
         "264836.0",
         "264836.0"
        ],
        [
         "mean",
         "43464.03626017611",
         "135.08010995483997",
         "135549.47640426527",
         "135158.31081499494",
         "56.58315712365388",
         "1.907308674047335",
         "7.3041995801175075"
        ],
        [
         "std",
         "105.38928199808305",
         "76.78418000108746",
         "80579.9780220639",
         "78133.02602582192",
         "32.826637807097676",
         "0.6436539890110683",
         "3.0832257462332096"
        ],
        [
         "min",
         "43282.0",
         "1.0",
         "1000.0",
         "1.0",
         "1.0",
         "1.0",
         "1.5"
        ],
        [
         "25%",
         "43373.0",
         "70.0",
         "70021.0",
         "67601.5",
         "28.0",
         "2.0",
         "5.4"
        ],
        [
         "50%",
         "43464.0",
         "130.0",
         "130357.5",
         "135137.5",
         "56.0",
         "2.0",
         "7.4"
        ],
        [
         "75%",
         "43555.0",
         "203.0",
         "203094.25",
         "202701.25",
         "85.0",
         "2.0",
         "9.2"
        ],
        [
         "max",
         "43646.0",
         "272.0",
         "2373711.0",
         "2415841.0",
         "114.0",
         "200.0",
         "650.0"
        ]
       ],
       "shape": {
        "columns": 7,
        "rows": 8
       }
      },
      "text/html": [
       "<div>\n",
       "<style scoped>\n",
       "    .dataframe tbody tr th:only-of-type {\n",
       "        vertical-align: middle;\n",
       "    }\n",
       "\n",
       "    .dataframe tbody tr th {\n",
       "        vertical-align: top;\n",
       "    }\n",
       "\n",
       "    .dataframe thead th {\n",
       "        text-align: right;\n",
       "    }\n",
       "</style>\n",
       "<table border=\"1\" class=\"dataframe\">\n",
       "  <thead>\n",
       "    <tr style=\"text-align: right;\">\n",
       "      <th></th>\n",
       "      <th>DATE</th>\n",
       "      <th>STORE_NBR</th>\n",
       "      <th>LYLTY_CARD_NBR</th>\n",
       "      <th>TXN_ID</th>\n",
       "      <th>PROD_NBR</th>\n",
       "      <th>PROD_QTY</th>\n",
       "      <th>TOT_SALES</th>\n",
       "    </tr>\n",
       "  </thead>\n",
       "  <tbody>\n",
       "    <tr>\n",
       "      <th>count</th>\n",
       "      <td>264836.000000</td>\n",
       "      <td>264836.00000</td>\n",
       "      <td>2.648360e+05</td>\n",
       "      <td>2.648360e+05</td>\n",
       "      <td>264836.000000</td>\n",
       "      <td>264836.000000</td>\n",
       "      <td>264836.000000</td>\n",
       "    </tr>\n",
       "    <tr>\n",
       "      <th>mean</th>\n",
       "      <td>43464.036260</td>\n",
       "      <td>135.08011</td>\n",
       "      <td>1.355495e+05</td>\n",
       "      <td>1.351583e+05</td>\n",
       "      <td>56.583157</td>\n",
       "      <td>1.907309</td>\n",
       "      <td>7.304200</td>\n",
       "    </tr>\n",
       "    <tr>\n",
       "      <th>std</th>\n",
       "      <td>105.389282</td>\n",
       "      <td>76.78418</td>\n",
       "      <td>8.057998e+04</td>\n",
       "      <td>7.813303e+04</td>\n",
       "      <td>32.826638</td>\n",
       "      <td>0.643654</td>\n",
       "      <td>3.083226</td>\n",
       "    </tr>\n",
       "    <tr>\n",
       "      <th>min</th>\n",
       "      <td>43282.000000</td>\n",
       "      <td>1.00000</td>\n",
       "      <td>1.000000e+03</td>\n",
       "      <td>1.000000e+00</td>\n",
       "      <td>1.000000</td>\n",
       "      <td>1.000000</td>\n",
       "      <td>1.500000</td>\n",
       "    </tr>\n",
       "    <tr>\n",
       "      <th>25%</th>\n",
       "      <td>43373.000000</td>\n",
       "      <td>70.00000</td>\n",
       "      <td>7.002100e+04</td>\n",
       "      <td>6.760150e+04</td>\n",
       "      <td>28.000000</td>\n",
       "      <td>2.000000</td>\n",
       "      <td>5.400000</td>\n",
       "    </tr>\n",
       "    <tr>\n",
       "      <th>50%</th>\n",
       "      <td>43464.000000</td>\n",
       "      <td>130.00000</td>\n",
       "      <td>1.303575e+05</td>\n",
       "      <td>1.351375e+05</td>\n",
       "      <td>56.000000</td>\n",
       "      <td>2.000000</td>\n",
       "      <td>7.400000</td>\n",
       "    </tr>\n",
       "    <tr>\n",
       "      <th>75%</th>\n",
       "      <td>43555.000000</td>\n",
       "      <td>203.00000</td>\n",
       "      <td>2.030942e+05</td>\n",
       "      <td>2.027012e+05</td>\n",
       "      <td>85.000000</td>\n",
       "      <td>2.000000</td>\n",
       "      <td>9.200000</td>\n",
       "    </tr>\n",
       "    <tr>\n",
       "      <th>max</th>\n",
       "      <td>43646.000000</td>\n",
       "      <td>272.00000</td>\n",
       "      <td>2.373711e+06</td>\n",
       "      <td>2.415841e+06</td>\n",
       "      <td>114.000000</td>\n",
       "      <td>200.000000</td>\n",
       "      <td>650.000000</td>\n",
       "    </tr>\n",
       "  </tbody>\n",
       "</table>\n",
       "</div>"
      ],
      "text/plain": [
       "                DATE     STORE_NBR  LYLTY_CARD_NBR        TXN_ID  \\\n",
       "count  264836.000000  264836.00000    2.648360e+05  2.648360e+05   \n",
       "mean    43464.036260     135.08011    1.355495e+05  1.351583e+05   \n",
       "std       105.389282      76.78418    8.057998e+04  7.813303e+04   \n",
       "min     43282.000000       1.00000    1.000000e+03  1.000000e+00   \n",
       "25%     43373.000000      70.00000    7.002100e+04  6.760150e+04   \n",
       "50%     43464.000000     130.00000    1.303575e+05  1.351375e+05   \n",
       "75%     43555.000000     203.00000    2.030942e+05  2.027012e+05   \n",
       "max     43646.000000     272.00000    2.373711e+06  2.415841e+06   \n",
       "\n",
       "            PROD_NBR       PROD_QTY      TOT_SALES  \n",
       "count  264836.000000  264836.000000  264836.000000  \n",
       "mean       56.583157       1.907309       7.304200  \n",
       "std        32.826638       0.643654       3.083226  \n",
       "min         1.000000       1.000000       1.500000  \n",
       "25%        28.000000       2.000000       5.400000  \n",
       "50%        56.000000       2.000000       7.400000  \n",
       "75%        85.000000       2.000000       9.200000  \n",
       "max       114.000000     200.000000     650.000000  "
      ]
     },
     "execution_count": 6,
     "metadata": {},
     "output_type": "execute_result"
    }
   ],
   "source": [
    "dataset.describe()"
   ]
  },
  {
   "cell_type": "markdown",
   "id": "35b5d379",
   "metadata": {},
   "source": [
    "# TOTAL NUMBER OF CUSTOMER"
   ]
  },
  {
   "cell_type": "code",
   "execution_count": 9,
   "id": "febddac3",
   "metadata": {},
   "outputs": [
    {
     "name": "stdout",
     "output_type": "stream",
     "text": [
      "The total number of customers are: 2415841\n"
     ]
    }
   ],
   "source": [
    "print(f\"The total number of customers are: {max(dataset['TXN_ID'])}\")"
   ]
  },
  {
   "cell_type": "markdown",
   "id": "18131308",
   "metadata": {},
   "source": [
    "# AVERAGAE TRANSACTIONS"
   ]
  },
  {
   "cell_type": "code",
   "execution_count": 11,
   "id": "5c24480e",
   "metadata": {},
   "outputs": [
    {
     "data": {
      "text/plain": [
       "(264836, 8)"
      ]
     },
     "execution_count": 11,
     "metadata": {},
     "output_type": "execute_result"
    }
   ],
   "source": [
    "dataset.shape"
   ]
  },
  {
   "cell_type": "code",
   "execution_count": 14,
   "id": "c7ecb033",
   "metadata": {},
   "outputs": [
    {
     "name": "stdout",
     "output_type": "stream",
     "text": [
      "9.12202646165929\n"
     ]
    }
   ],
   "source": [
    "avg_trans= max(dataset['TXN_ID'])/264836\n",
    "print(avg_trans)"
   ]
  },
  {
   "cell_type": "code",
   "execution_count": 15,
   "id": "0c907bcb",
   "metadata": {},
   "outputs": [
    {
     "name": "stdout",
     "output_type": "stream",
     "text": [
      "The trial store was successful with increased sales.\n"
     ]
    }
   ],
   "source": [
    "# Assuming we have sales data for trial and control stores\n",
    "trial_store_sales = dataset[dataset['STORE_NBR'] == 101]['TOT_SALES'].sum()  # Trial store (Store 101)\n",
    "control_store_sales = dataset[dataset['STORE_NBR'] == 1]['TOT_SALES'].sum()  # Control store (Store 1)\n",
    "\n",
    "# Calculate success (e.g., sales increase in trial store)\n",
    "if trial_store_sales > control_store_sales:\n",
    "    print(\"The trial store was successful with increased sales.\")\n",
    "else:\n",
    "    print(\"The trial store was not successful; sales did not increase.\")\n"
   ]
  }
 ],
 "metadata": {
  "kernelspec": {
   "display_name": "Python 3",
   "language": "python",
   "name": "python3"
  },
  "language_info": {
   "codemirror_mode": {
    "name": "ipython",
    "version": 3
   },
   "file_extension": ".py",
   "mimetype": "text/x-python",
   "name": "python",
   "nbconvert_exporter": "python",
   "pygments_lexer": "ipython3",
   "version": "3.13.2"
  }
 },
 "nbformat": 4,
 "nbformat_minor": 5
}
